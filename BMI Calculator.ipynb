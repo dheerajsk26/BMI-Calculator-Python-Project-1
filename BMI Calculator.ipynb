{
 "cells": [
  {
   "cell_type": "markdown",
   "id": "6be37bb8",
   "metadata": {},
   "source": [
    "# BMI Calculator – Python project"
   ]
  },
  {
   "cell_type": "markdown",
   "id": "4fc54fc0",
   "metadata": {},
   "source": [
    "####  Description: BMI (Body Mass Index) calculator by taking the user's weight and height as input and then calculating the BMI using the formula: BMI = weight(kg) / (height(m) * height(m))"
   ]
  },
  {
   "cell_type": "code",
   "execution_count": 29,
   "id": "132c3e66",
   "metadata": {},
   "outputs": [
    {
     "name": "stdout",
     "output_type": "stream",
     "text": [
      "Enter your name: Dheeraj \n",
      "Enter your weight in kg: 65\n",
      "Enter your height in cm: 169\n",
      "Your BMI score is: 22.8\n",
      "Dheeraj ,your BMI is normal.Keep up the same🥳\n"
     ]
    }
   ],
   "source": [
    "#Entering the user's inputs \n",
    "name = input(\"Enter your name: \")\n",
    "weight = int(input(\"Enter your weight in kg: \"))\n",
    "height = int(input(\"Enter your height in cm: \"))\n",
    "\n",
    "\n",
    "#Converting height from centimeters to meters\n",
    "height_meters = height/100\n",
    "   \n",
    "    \n",
    "#Calculating BMI\n",
    "BMI = (weight) / (height_meters * height_meters)\n",
    "\n",
    "\n",
    "#Rounding off BMI score to one decimal place and printing the BMI score\n",
    "BMI = round(BMI,1)\n",
    "\n",
    "\n",
    "#Printing the user's BMI score\n",
    "print(\"Your BMI score is: \" + str(BMI)) \n",
    "\n",
    "\n",
    "#Interpreting different BMI categories and printing the final result\n",
    "\n",
    "if BMI>0:\n",
    "    if BMI < 18.5:\n",
    "        print(name + \",you are underweight.Consult your GP for diet😥\")\n",
    "        \n",
    "    elif 18.5 <= BMI < 24.9:\n",
    "        print(name + \",your BMI is normal.Keep up the same🥳\")\n",
    "        \n",
    "    elif 25 <= BMI < 29.9:\n",
    "        print(name + \",you are overweight.Consult your GP for diet😥\")\n",
    "        \n",
    "    elif 30 <= BMI < 34.9:\n",
    "        print(name + \",you are obese.Consult your GP immediately😨\")\n",
    "        \n",
    "    elif 35 <= BMI <39.9:\n",
    "        print(name +\",you are severely obese.Consult your GP immediately😨\")\n",
    "        \n",
    "    else:\n",
    "        print(name +\",you are morbidly obese.Consult your GP immediately😨\")\n",
    "        \n",
    "else:\n",
    "    print(\"Enter valid details\")"
   ]
  },
  {
   "cell_type": "code",
   "execution_count": null,
   "id": "812b2da4",
   "metadata": {},
   "outputs": [],
   "source": []
  }
 ],
 "metadata": {
  "kernelspec": {
   "display_name": "Python 3 (ipykernel)",
   "language": "python",
   "name": "python3"
  },
  "language_info": {
   "codemirror_mode": {
    "name": "ipython",
    "version": 3
   },
   "file_extension": ".py",
   "mimetype": "text/x-python",
   "name": "python",
   "nbconvert_exporter": "python",
   "pygments_lexer": "ipython3",
   "version": "3.9.12"
  }
 },
 "nbformat": 4,
 "nbformat_minor": 5
}
